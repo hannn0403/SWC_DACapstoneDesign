{
 "cells": [
  {
   "cell_type": "code",
   "execution_count": 1,
   "id": "de842461",
   "metadata": {
    "ExecuteTime": {
     "end_time": "2021-12-04T09:48:15.530623Z",
     "start_time": "2021-12-04T09:48:11.664985Z"
    }
   },
   "outputs": [],
   "source": [
    "import numpy as np\n",
    "import pandas as pd\n",
    "import os\n",
    "import pyeeg\n",
    "from scipy import stats\n",
    "\n",
    "default_path = \"C:/Users/cjy89/Desktop/EEG/capstone\"\n",
    "labels = [\"HA_HV\", \"HA_LV\", \"LA_HV\", \"LA_LV\"]\n",
    "features = [\"time_feature\", \"frequency_feature\"]\n",
    "\n",
    "index_channel = [\"FP1\", \"AF3\", \"F3\", \"F7\", \"FC5\", \"FC1\", \"C3\", \"T7\", \"CP5\", \"CP1\", \"P3\", \"P7\",\n",
    "                 \"PO3\", \"O1\", \"Oz\", \"Pz\", \"FP2\", \"AF4\", \"Fz\", \"F4\", \"F8\", \"FC6\", \"FC2\", \"Cz\",\n",
    "                 \"C4\", \"T8\", \"CP6\", \"CP2\", \"P4\", \"P8\", \"PO4\", \"O2\"]\n",
    "basic_channel = [\"F3\", \"F4\", \"F7\", \"F8\", \"FC1\", \"FC2\", \"FC5\", \"FC6\", \"FP1\", \"FP2\", \"AF3\", \"AF4\"]"
   ]
  },
  {
   "cell_type": "markdown",
   "id": "6246f0d5",
   "metadata": {},
   "source": [
    "# Valence Model\n",
    "important feature, dfa의 KDE계산"
   ]
  },
  {
   "cell_type": "code",
   "execution_count": 2,
   "id": "77da5fc2",
   "metadata": {
    "ExecuteTime": {
     "end_time": "2021-12-04T10:06:22.837288Z",
     "start_time": "2021-12-04T09:48:16.577091Z"
    }
   },
   "outputs": [
    {
     "name": "stdout",
     "output_type": "stream",
     "text": [
      "HA_HV "
     ]
    },
    {
     "name": "stderr",
     "output_type": "stream",
     "text": [
      "C:\\Users\\cjy89\\anaconda3\\lib\\site-packages\\pyeeg-0.4.4-py3.8.egg\\pyeeg\\detrended_fluctuation_analysis.py:125: FutureWarning: `rcond` parameter will change to the default of machine precision times ``max(M, N)`` where M and N are the input matrix dimensions.\n",
      "To use the future default and silence this warning we advise to pass `rcond=None`, to keep using the old, explicitly pass `rcond=-1`.\n",
      "C:\\Users\\cjy89\\anaconda3\\lib\\site-packages\\pyeeg-0.4.4-py3.8.egg\\pyeeg\\detrended_fluctuation_analysis.py:129: FutureWarning: `rcond` parameter will change to the default of machine precision times ``max(M, N)`` where M and N are the input matrix dimensions.\n",
      "To use the future default and silence this warning we advise to pass `rcond=None`, to keep using the old, explicitly pass `rcond=-1`.\n"
     ]
    },
    {
     "name": "stdout",
     "output_type": "stream",
     "text": [
      ".... Done!\n",
      "HA_LV .... Done!\n",
      "LA_HV .... Done!\n",
      "LA_LV .... Done!\n"
     ]
    }
   ],
   "source": [
    "high_dfa = pd.DataFrame([])\n",
    "low_dfa = pd.DataFrame([])\n",
    "\n",
    "for label in labels:\n",
    "    print(label, end=\" \")\n",
    "    \n",
    "    if label[:2] == \"HA\":\n",
    "        csv_files = os.listdir(f\"./capstone/{label}/deap_eeg2/\")\n",
    "        for csv_file in csv_files:\n",
    "            eeg_file = pd.read_csv(f\"./capstone/{label}/deap_eeg2/{csv_file}\", header=None)\n",
    "            eeg_file.index = index_channel\n",
    "            eeg_file = eeg_file.loc[basic_channel, 128 * 3:]\n",
    "            high_dfa = pd.concat([high_dfa, eeg_file.apply(lambda x: pyeeg.dfa(x), axis=1)], axis=1)\n",
    "            \n",
    "    elif label[:2] == \"LA\":        \n",
    "        csv_files = os.listdir(f\"./capstone/{label}/deap_eeg2/\")\n",
    "        for csv_file in csv_files:\n",
    "            eeg_file = pd.read_csv(f\"./capstone/{label}/deap_eeg2/{csv_file}\", header=None)\n",
    "            eeg_file.index = index_channel\n",
    "            eeg_file = eeg_file.loc[basic_channel, 128 * 3:]\n",
    "            low_dfa = pd.concat([low_dfa, eeg_file.apply(lambda x: pyeeg.dfa(x), axis=1)], axis=1)\n",
    "            \n",
    "    print(\".... Done!\")"
   ]
  },
  {
   "cell_type": "code",
   "execution_count": 77,
   "id": "ace337a3",
   "metadata": {
    "ExecuteTime": {
     "end_time": "2021-12-04T11:19:19.147373Z",
     "start_time": "2021-12-04T11:19:19.009601Z"
    }
   },
   "outputs": [
    {
     "data": {
      "image/png": "[encoded data removed]",
      "text/plain": [
       "<Figure size 432x288 with 1 Axes>"
      ]
     },
     "metadata": {
      "needs_background": "light"
     },
     "output_type": "display_data"
    }
   ],
   "source": [
    "X = np.linspace(-0.3, 0.1, 2000)\n",
    "\n",
    "estimator1 = stats.gaussian_kde(high_dfa.mean(axis=0), bw_method='silverman')\n",
    "estimator2 = stats.gaussian_kde(low_dfa.mean(axis=0), bw_method='silverman')\n",
    "\n",
    "K1 = estimator1(X)\n",
    "K2 = estimator2(X)\n",
    "\n",
    "## 4. 그래프 그리기\n",
    "plt.plot(X, K1, label='gaussian_kde')\n",
    "plt.plot(X, K2, label='estimator2')\n",
    "plt.xlim([-0.1, 0.1])\n",
    "plt.legend(loc='best')\n",
    "plt.show()"
   ]
  },
  {
   "cell_type": "code",
   "execution_count": 78,
   "id": "b6f85a52",
   "metadata": {
    "ExecuteTime": {
     "end_time": "2021-12-04T11:19:20.330320Z",
     "start_time": "2021-12-04T11:19:20.304389Z"
    }
   },
   "outputs": [],
   "source": [
    "high_dfa.to_csv(\"high_dfa.csv\", header=False, index=False)\n",
    "low_dfa.to_csv(\"low_dfa.csv\", header=False, index=False)"
   ]
  },
  {
   "cell_type": "markdown",
   "id": "fa67e4e4",
   "metadata": {},
   "source": [
    "# Arousal Model\n",
    "important feature, kurtosis의 KDE계산"
   ]
  },
  {
   "cell_type": "code",
   "execution_count": 53,
   "id": "0bcdf285",
   "metadata": {
    "ExecuteTime": {
     "end_time": "2021-12-04T10:42:07.641097Z",
     "start_time": "2021-12-04T10:36:37.588213Z"
    }
   },
   "outputs": [
    {
     "name": "stdout",
     "output_type": "stream",
     "text": [
      "HA_HV .... Done!\n",
      "HA_LV .... Done!\n",
      "LA_HV .... Done!\n",
      "LA_LV .... Done!\n"
     ]
    }
   ],
   "source": [
    "high_kurtosis = pd.DataFrame([])\n",
    "low_kurtosis = pd.DataFrame([])\n",
    "\n",
    "for label in labels:\n",
    "    print(label, end=\" \")\n",
    "    \n",
    "    if label[:2] == \"HA\":\n",
    "        csv_files = os.listdir(f\"./capstone/{label}/deap_eeg2/\")\n",
    "        for csv_file in csv_files:\n",
    "            eeg_file = pd.read_csv(f\"./capstone/{label}/deap_eeg2/{csv_file}\", header=None)\n",
    "            eeg_file.index = index_channel\n",
    "            eeg_file = eeg_file.loc[basic_channel, 128 * 3:]\n",
    "            high_kurtosis = pd.concat([high_kurtosis, pd.Series(stats.kurtosis(eeg_file, axis=1))], axis=1)\n",
    "            \n",
    "    elif label[:2] == \"LA\":        \n",
    "        csv_files = os.listdir(f\"./capstone/{label}/deap_eeg2/\")\n",
    "        for csv_file in csv_files:\n",
    "            eeg_file = pd.read_csv(f\"./capstone/{label}/deap_eeg2/{csv_file}\", header=None)\n",
    "            eeg_file.index = index_channel\n",
    "            eeg_file = eeg_file.loc[basic_channel, 128 * 3:]\n",
    "            low_kurtosis = pd.concat([low_kurtosis, pd.Series(stats.kurtosis(eeg_file, axis=1))], axis=1)\n",
    "            \n",
    "    print(\".... Done!\")"
   ]
  },
  {
   "cell_type": "code",
   "execution_count": 80,
   "id": "61b76202",
   "metadata": {
    "ExecuteTime": {
     "end_time": "2021-12-04T11:20:00.689863Z",
     "start_time": "2021-12-04T11:20:00.530005Z"
    }
   },
   "outputs": [
    {
     "data": {
      "image/png": "[encoded data removed]",
      "text/plain": [
       "<Figure size 432x288 with 1 Axes>"
      ]
     },
     "metadata": {
      "needs_background": "light"
     },
     "output_type": "display_data"
    }
   ],
   "source": [
    "X = np.linspace(-20, 100, 5000)\n",
    "\n",
    "estimator1 = stats.gaussian_kde(high_kurtosis.mean(axis=0), bw_method='silverman')\n",
    "estimator2 = stats.gaussian_kde(low_kurtosis.mean(axis=0), bw_method='silverman')\n",
    "\n",
    "K1 = estimator1(X)\n",
    "K2 = estimator2(X)\n",
    "\n",
    "## 4. 그래프 그리기\n",
    "plt.plot(X, K1, label='gaussian_kde')\n",
    "plt.plot(X, K2, label='estimator2')\n",
    "plt.legend(loc='best')\n",
    "plt.xlim([-10, 40])\n",
    "plt.show()"
   ]
  },
  {
   "cell_type": "code",
   "execution_count": 81,
   "id": "0539fe27",
   "metadata": {
    "ExecuteTime": {
     "end_time": "2021-12-04T11:20:24.600738Z",
     "start_time": "2021-12-04T11:20:24.562716Z"
    }
   },
   "outputs": [],
   "source": [
    "high_kurtosis.to_csv(\"high_kurtosis.csv\", header=False, index=False)\n",
    "low_kurtosis.to_csv(\"low_kurtosis.csv\", header=False, index=False)"
   ]
  }
 ],
 "metadata": {
  "hide_input": false,
  "kernelspec": {
   "display_name": "Python 3",
   "language": "python",
   "name": "python3"
  },
  "language_info": {
   "codemirror_mode": {
    "name": "ipython",
    "version": 3
   },
   "file_extension": ".py",
   "mimetype": "text/x-python",
   "name": "python",
   "nbconvert_exporter": "python",
   "pygments_lexer": "ipython3",
   "version": "3.8.5"
  },
  "toc": {
   "base_numbering": 1,
   "nav_menu": {},
   "number_sections": true,
   "sideBar": true,
   "skip_h1_title": false,
   "title_cell": "Table of Contents",
   "title_sidebar": "Contents",
   "toc_cell": false,
   "toc_position": {},
   "toc_section_display": true,
   "toc_window_display": false
  },
  "varInspector": {
   "cols": {
    "lenName": 16,
    "lenType": 16,
    "lenVar": 40
   },
   "kernels_config": {
    "python": {
     "delete_cmd_postfix": "",
     "delete_cmd_prefix": "del ",
     "library": "var_list.py",
     "varRefreshCmd": "print(var_dic_list())"
    },
    "r": {
     "delete_cmd_postfix": ") ",
     "delete_cmd_prefix": "rm(",
     "library": "var_list.r",
     "varRefreshCmd": "cat(var_dic_list()) "
    }
   },
   "types_to_exclude": [
    "module",
    "function",
    "builtin_function_or_method",
    "instance",
    "_Feature"
   ],
   "window_display": false
  }
 },
 "nbformat": 4,
 "nbformat_minor": 5
}
